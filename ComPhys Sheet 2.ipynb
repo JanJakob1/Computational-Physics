{
 "cells": [
  {
   "cell_type": "code",
   "execution_count": 3,
   "metadata": {},
   "outputs": [
    {
     "data": {
      "text/plain": [
       "(array([0.23110047, 0.97293024, 0.        ]),\n",
       " array([ 0.97293025, -0.23109749,  0.        ]),\n",
       " array([ 0.,  0., -1.]),\n",
       " -0.5000003392690007,\n",
       " 1.414213082567869,\n",
       " 6.785380013418774e-07)"
      ]
     },
     "execution_count": 3,
     "metadata": {},
     "output_type": "execute_result"
    }
   ],
   "source": [
    "import numpy as np\n",
    "import matplotlib.pyplot as plt\n",
    "G=1\n",
    "M=1\n",
    "\n",
    "def leapfrog(n,s,w,h,j,e,E):\n",
    "    E0 = (np.dot(w,w))**2/2-(1/(np.linalg.norm(s)))\n",
    "    \n",
    "    #update s in half time step\n",
    "    s=s+w*h/2\n",
    "    for i in range(n-1):\n",
    "        w=w-s/(np.linalg.norm(s)**3)*h\n",
    "        s=s+w*h\n",
    "#         if(i%10==0):\n",
    "#             plt.scatter(s[0],s[1])\n",
    "#             print(i,s)\n",
    "        i=i+1   \n",
    "#     last step\n",
    "    w = w-s/(np.linalg.norm(s)**3)*h\n",
    "    s = s+w*h/2\n",
    "\n",
    "    j=np.cross(s,w)\n",
    "    e = np.cross(w,np.cross(s,w))-w\n",
    "    b=np.linalg.norm(e)/M  #excentricity\n",
    "    E = (np.dot(w,w))**2/2-1/(np.linalg.norm(s))\n",
    "    eps = np.abs(E-E0)/np.abs(E0)    \n",
    "  \n",
    "    return s,w,j,E,b,eps\n",
    "    \n",
    "r = np.array([0,1,0])\n",
    "v = np.array([1,0,0])\n",
    "\n",
    "R0=1\n",
    "V0=(G*M/R0)\n",
    "s=r/R0\n",
    "w = v/V0\n",
    "E = (np.dot(w,w))/2-1/(np.linalg.norm(s))\n",
    "j=np.cross(s,w)\n",
    "e = np.cross(w,np.cross(s,w))-w\n",
    "E = (np.dot(w,w))/2-1/(np.linalg.norm(s))\n",
    "\n",
    "\n",
    "\n",
    "h11=0.01\n",
    "e11 = leapfrog(1280,s,w,h11,j,e,E)[-1]\n",
    "leapfrog(1280,s,w,h11,j,e,E)"
   ]
  },
  {
   "cell_type": "code",
   "execution_count": 4,
   "metadata": {},
   "outputs": [
    {
     "data": {
      "text/plain": [
       "(array([0.27993363, 0.96009633, 0.        ]),\n",
       " array([ 0.96007255, -0.27948723,  0.        ]),\n",
       " array([ 0.,  0., -1.]),\n",
       " -0.500073695756257,\n",
       " 1.4141091918519824,\n",
       " 0.00014739151251408344)"
      ]
     },
     "execution_count": 4,
     "metadata": {},
     "output_type": "execute_result"
    }
   ],
   "source": [
    "h12=0.10\n",
    "e12=leapfrog(255,s,w,h12,j,e,E)[-1]\n",
    "leapfrog(255,s,w,h12,j,e,E)"
   ]
  },
  {
   "cell_type": "code",
   "execution_count": 5,
   "metadata": {},
   "outputs": [
    {
     "data": {
      "text/plain": [
       "(array([0.03361886, 0.99943473, 0.        ]),\n",
       " array([ 0.99943473, -0.03361885,  0.        ]),\n",
       " array([ 0.,  0., -1.]),\n",
       " -0.50000000007067,\n",
       " 1.4142135622731509,\n",
       " 1.413400507743745e-10)"
      ]
     },
     "execution_count": 5,
     "metadata": {},
     "output_type": "execute_result"
    }
   ],
   "source": [
    "h13=0.001\n",
    "e13 = leapfrog(12600,s,w,h13,j,e,E)[-1]\n",
    "leapfrog(12600,s,w,h13,j,e,E)"
   ]
  },
  {
   "cell_type": "code",
   "execution_count": 6,
   "metadata": {},
   "outputs": [
    {
     "data": {
      "text/plain": [
       "(array([0.09256187, 0.99725971, 0.        ]),\n",
       " array([ 1.24657614, -0.07389479,  0.        ]),\n",
       " array([ 0.  ,  0.  , -1.25]),\n",
       " 0.21742740962916018,\n",
       " 1.9989983821149278,\n",
       " 0.014842179379380404)"
      ]
     },
     "execution_count": 6,
     "metadata": {},
     "output_type": "execute_result"
    }
   ],
   "source": [
    "w1 = w/0.8\n",
    "E = (np.dot(w1,w1))/2-1/(np.linalg.norm(s))\n",
    "j=np.cross(s,w1)\n",
    "e = np.cross(w1,np.cross(s,w1))-w1\n",
    "E = (np.dot(w1,w1))/2-1/(np.linalg.norm(s))\n",
    "\n",
    "\n",
    "h21=0.01\n",
    "e21 = leapfrog(4350,s,w1,h21,j,e,E)[-1]\n",
    "leapfrog(4350,s,w1,h21,j,e,E)"
   ]
  },
  {
   "cell_type": "code",
   "execution_count": 7,
   "metadata": {},
   "outputs": [
    {
     "data": {
      "text/plain": [
       "(array([0.07498816, 0.99826171, 0.        ]),\n",
       " array([ 1.24775074, -0.05891873,  0.        ]),\n",
       " array([ 0.  ,  0.  , -1.25]),\n",
       " 0.21842435846773278,\n",
       " 1.999601309757252,\n",
       " 0.010325030659476243)"
      ]
     },
     "execution_count": 7,
     "metadata": {},
     "output_type": "execute_result"
    }
   ],
   "source": [
    "h22=0.05\n",
    "e22 = leapfrog(870,s,w1,h22,j,e,E)[-1]\n",
    "leapfrog(870,s,w1,h22,j,e,E)"
   ]
  },
  {
   "cell_type": "code",
   "execution_count": 8,
   "metadata": {},
   "outputs": [
    {
     "data": {
      "text/plain": [
       "(array([0.21725145, 0.98484664, 0.        ]),\n",
       " array([ 1.23121803, -0.17233052,  0.        ]),\n",
       " array([ 0.  ,  0.  , -1.25]),\n",
       " 0.20288513487173354,\n",
       " 1.990122827303496,\n",
       " 0.08073284022718961)"
      ]
     },
     "execution_count": 8,
     "metadata": {},
     "output_type": "execute_result"
    }
   ],
   "source": [
    "h23=0.002\n",
    "e23 = leapfrog(21800,s,w1,h23,j,e,E)[-1]\n",
    "leapfrog(21800,s,w1,h23,j,e,E)"
   ]
  },
  {
   "cell_type": "code",
   "execution_count": 9,
   "metadata": {},
   "outputs": [
    {
     "data": {
      "text/plain": [
       "(array([0.06232721, 0.99717134, 0.        ]),\n",
       " array([ 0.83099635, -0.07520936,  0.        ]),\n",
       " array([ 0.        ,  0.        , -0.83333333]),\n",
       " -0.758528344601847,\n",
       " 1.0861360496455137,\n",
       " 0.00045476908592392715)"
      ]
     },
     "execution_count": 9,
     "metadata": {},
     "output_type": "execute_result"
    }
   ],
   "source": [
    "w2 = w/1.2\n",
    "E = (np.dot(w2,w2))/2-1/(np.linalg.norm(s))\n",
    "j=np.cross(s,w2)\n",
    "e = np.cross(w2,np.cross(s,w2))-w2\n",
    "E = (np.dot(w2,w2))/2-1/(np.linalg.norm(s))\n",
    "\n",
    "\n",
    "h31=0.01\n",
    "e31 = leapfrog(850,s,w2,h31,j,e,E)[-1]\n",
    "leapfrog(850,s,w2,h31,j,e,E)"
   ]
  },
  {
   "cell_type": "code",
   "execution_count": 10,
   "metadata": {},
   "outputs": [
    {
     "data": {
      "text/plain": [
       "(array([0.14589343, 0.98451592, 0.        ]),\n",
       " array([ 0.82037065, -0.17591862,  0.        ]),\n",
       " array([ 0.        ,  0.        , -0.83333333]),\n",
       " -0.7569788882225192,\n",
       " 1.09215989966146,\n",
       " 0.002496554004692431)"
      ]
     },
     "execution_count": 10,
     "metadata": {},
     "output_type": "execute_result"
    }
   ],
   "source": [
    "h32=0.002\n",
    "e32 = leapfrog(4300,s,w2,h32,j,e,E)[-1]\n",
    "leapfrog(4300,s,w2,h32,j,e,E)"
   ]
  },
  {
   "cell_type": "code",
   "execution_count": 11,
   "metadata": {},
   "outputs": [
    {
     "data": {
      "text/plain": [
       "(array([-0.03106697,  0.9986807 ,  0.        ]),\n",
       " array([0.83432758, 0.00342751, 0.        ]),\n",
       " array([ 0.        ,  0.        , -0.83333333]),\n",
       " -0.7585493710970245,\n",
       " 1.0860602822423226,\n",
       " 0.00042706157423103984)"
      ]
     },
     "execution_count": 11,
     "metadata": {},
     "output_type": "execute_result"
    }
   ],
   "source": [
    "h33=0.10\n",
    "e33 = leapfrog(85,s,w2,h33,j,e,E)[-1]\n",
    "leapfrog(85,s,w2,h33,j,e,E)"
   ]
  },
  {
   "cell_type": "code",
   "execution_count": 13,
   "metadata": {},
   "outputs": [
    {
     "data": {
      "text/plain": [
       "[<matplotlib.lines.Line2D at 0x7f25ebda2d68>]"
      ]
     },
     "execution_count": 13,
     "metadata": {},
     "output_type": "execute_result"
    },
    {
     "data": {
      "image/png": "[encoded data removed]",
      "text/plain": [
       "<Figure size 432x288 with 1 Axes>"
      ]
     },
     "metadata": {
      "needs_background": "light"
     },
     "output_type": "display_data"
    }
   ],
   "source": [
    "a1 = np.array([h13,h11,h12]) #w=w\n",
    "a2 = np.array([h23,h21,h22]) #w=w/0,8\n",
    "a3 = np.array([h32,h31,h33]) #w=w/1,2\n",
    "\n",
    "b1 = np.array([e13,e11,e12])\n",
    "b2 = np.array([e23,e21,e22])\n",
    "b3 = np.array([e32,e31,e33])\n",
    "plt.loglog(a1,b1)\n",
    "plt.loglog(a2,b2)\n",
    "plt.loglog(a3,b3)"
   ]
  },
  {
   "cell_type": "code",
   "execution_count": null,
   "metadata": {},
   "outputs": [],
   "source": []
  }
 ],
 "metadata": {
  "kernelspec": {
   "display_name": "Python 3",
   "language": "python",
   "name": "python3"
  },
  "language_info": {
   "codemirror_mode": {
    "name": "ipython",
    "version": 3
   },
   "file_extension": ".py",
   "mimetype": "text/x-python",
   "name": "python",
   "nbconvert_exporter": "python",
   "pygments_lexer": "ipython3",
   "version": "3.7.3"
  }
 },
 "nbformat": 4,
 "nbformat_minor": 2
}
