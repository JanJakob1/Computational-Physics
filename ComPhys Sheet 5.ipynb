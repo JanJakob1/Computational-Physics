{
 "cells": [
  {
   "cell_type": "code",
   "execution_count": 1,
   "metadata": {},
   "outputs": [],
   "source": [
    "import numpy as np\n",
    "from matplotlib import pyplot as plt\n",
    "from scipy.linalg import lu\n",
    "from scipy.linalg import lu_solve\n",
    "from scipy.linalg import lu_factor\n",
    "\n",
    "#  Präsenzaufgabenstuff\n",
    "# A = np.array([[1e-9,0.5],[0.5,0.5]])\n",
    "# b = np.array([0.5,0.25])\n",
    "# lu,piv = lu_factor(A)\n",
    "\n",
    "# x = lu_solve((lu,piv),b)\n",
    "# print(x)\n",
    "# np.dot(A,x)"
   ]
  },
  {
   "cell_type": "markdown",
   "metadata": {},
   "source": [
    "# 2\n",
    "## 2.1\n",
    "<p>\n",
    "Bringe die gegebene Matrix auf obere 3-Ecksgestalt. Wir nehmen an, dass das LGS eindeutig lösbar ist und damit alle $b_i$ nicht null sind. Unser LGS sieht wie folgt aus:\n",
    "</p>\n",
    "&nbsp;\n",
    "\n",
    "<math>\\begin{align}\n",
    "b_1x_1+c_1x_2&=y_1; & i&=1\\\\\n",
    "a_ix_{i-1}+b_ix_i+c_ix_{i+1}&=y_i; & i&=2,...,N-1\\\\\n",
    "a_Nx_{N-1}+b_Nx_N&=y_N; & i&=N\\\\\n",
    "\\,\\end{align}</math>\n",
    "\n",
    "<p>\n",
    "Wir modifizieren die 2. Gleichng wie folgt:\n",
    "</p>\n",
    "<p>\n",
    "$$(Gleichung\\,2)\\cdot b_1 - (Gleichung\\, 1) \\cdot a_2$$\n",
    "\n",
    "</p>\n",
    "also:\n",
    "\n",
    "<p>\n",
    "<math>\\begin{align}\n",
    "(a_2 x_1 + b_2 x_2  + c_2 x_3) b_1 - (b_1 x_1  + c_1 x_2) a_2 & = y_2 b_1 - y_1 a_2 \\\\\n",
    "(b_2 b_1 - c_1 a_2) x_2  + c_2 b_1 x_3 & = y_2 b_1 - y_1 a_2\n",
    "\\,\\end{align}</math>\n",
    "​\n",
    "</p>\n",
    "\n",
    "wie man daran sieht, fällt der $x_1$ Term raus. Analog erhält man aus der modifizierten 2. und der 3. Gleichung:\n",
    "\n",
    "<p>\n",
    "    \n",
    "<math>\\begin{align}\n",
    "(a_3 x_2 + b_3 x_3 + c_3 x_4) (b_2 b_1 - c_1 a_2) -\n",
    "((b_2 b_1 - c_1 a_2) x_2 + c_2 b_1 x_3) a_3\n",
    "& = y_3 (b_2 b_1 - c_1 a_2) - (y_2 b_1 - y_1 a_2) a_3\n",
    "\\\\\n",
    "(b_3 (b_2 b_1 - c_1 a_2) - c_2 b_1 a_3 )x_3 + c_3 (b_2 b_1 - c_1 a_2) x_4\n",
    "& = y_3 (b_2 b_1 - c_1 a_2) - (y_2 b_1 - y_1 a_2) a_3\n",
    "\\,\\end{align}</math>\n",
    "</p>    \n",
    "\n",
    "<p>\n",
    "Wie man wieder sieht, fällt der $x_2$-Term wieder raus. Dies mann man nun Analog bis zum ende fortsetzen. Man erhält:\n",
    "​\n",
    "</p>\n",
    "<p>\n",
    "<math>\\begin{align}\n",
    "\\tilde{a}_i&=0\\\\\n",
    "\\tilde{b}_1&=b_1\\\\\n",
    "\\tilde{b}_i&=b_i \\cdot \\tilde{b}_{i-1}- \\tilde{c}_{i-1}a_i\\\\\n",
    "\\tilde{c}_1&=c_1\\\\\n",
    "\\tilde{c}_i&=c_i \\tilde{b}_{i-1}\\\\\n",
    "\\tilde{y}_1&=y_1\\\\\n",
    "\\tilde{y_i}&=y_i\\tilde{b}_{i-1}-\\tilde{y}_{i-1}a_i\n",
    "\\,\\end{align}</math>\n",
    "</p>"
   ]
  },
  {
   "cell_type": "markdown",
   "metadata": {},
   "source": [
    "## 2.2\n",
    "Jetzt haben wir eine obere Dreiecksmatirx mit $\\tilde b_i$ auf der Hautpdiagonalen und $\\tilde c_i$ auf der Nebendiagonalen. Damit ist\n",
    "<p>\n",
    "<math>\n",
    "    \\begin{align}\n",
    "    x_N&=\\frac{y_N}{\\tilde{b}_N}\\\\\n",
    "    x_i&=\\frac{\\tilde{y_i}-\\tilde{c_i} x_{i+1}}{b_{i-1}}; \\qquad i=N-1, N-2, ..., 1\n",
    "    \\,\\end{align}\n",
    "</math>\n",
    "</p>"
   ]
  },
  {
   "cell_type": "markdown",
   "metadata": {},
   "source": [
    "## 2.3\n",
    "\n",
    "Nun implementieren wir unseren Algorithmus für gegebenes a, b, c wobei dies die Koeffizientenvektoren sind und Lösungsvektor y."
   ]
  },
  {
   "cell_type": "code",
   "execution_count": 2,
   "metadata": {},
   "outputs": [],
   "source": [
    "# Iterative Gaußelimination\n",
    "# Backward Substituion\n",
    "def trielim(a,b,c,y):\n",
    "    ''' Funktion, die für eine gegebene 3-Ecksmatrix und einen Verktor x den Vektor y ausrechent (Ax=y)\n",
    "        Inputs:\n",
    "            a      - (N-1) x 1 numpy array, Einträge obere Nebendiagonale\n",
    "            b      - N x 1 numpy array, Einträge Hauptdiagonale\n",
    "            c      - (N-1) x 1 numpy array, Einträge untere Nebendiagonale\n",
    "            y      - N x 1 numpy array, Ergebnis y\n",
    "        Output:\n",
    "            x      - N x 1 numpy array, Lösungsvektor x\n",
    "            \n",
    "        Helpvariables (only arrays):\n",
    "            h      - entspricht b tilde aus 2.1\n",
    "            i      - entspricht c tilde aus 2.1\n",
    "            j      - entspricht y tilde aus 2.1\n",
    "            rev    - Lösungseintrage x in umgekehrter Reihenfolge\n",
    "    '''\n",
    "    h=np.zeros(len(b))\n",
    "    i=np.zeros(len(c))\n",
    "    j=np.zeros(len(y))\n",
    "    h[0]=b[0]\n",
    "    i[0]=c[0]\n",
    "    j[0]=y[0]\n",
    "    k=1\n",
    "    \n",
    "    # Schleife zum berechnen der tilde koeffizienten\n",
    "    while k < len(b):\n",
    "        if(k!=len(b)-1):\n",
    "            i[k]=c[k]*h[k-1]\n",
    "        h[k]=b[k]*h[k-1]-i[k-1]*a[k-1]\n",
    "        j[k]=y[k]*h[k-1]-j[k-1]*a[k-1]\n",
    "        k=k+1\n",
    "    \n",
    "    rev = np.zeros(len(y))\n",
    "    rev[0] = j[-1]/h[-1]\n",
    "    m = 1\n",
    "    \n",
    "    #Schleife zur berechnung der x_i, jedoch noch Rückwärts\n",
    "    while m < len(h):\n",
    "        rev[m]=(j[-(1+m)]-i[-m]*rev[m-1])/h[-(1+m)]\n",
    "        m=m+1\n",
    "    \n",
    "    s = 0\n",
    "    x=np.zeros(len(y))\n",
    "    \n",
    "    # schleife zum umdrehen des Ergebnisvektors, getrennt zum leichteren Verständnis des Codes. \n",
    "    while s < len(rev):\n",
    "        x[s]=rev[-(s+1)]\n",
    "        s=s+1\n",
    "    return x\n"
   ]
  },
  {
   "cell_type": "markdown",
   "metadata": {},
   "source": [
    "## 2.4\n",
    "Wir nehmen nun N = 10 und setze alle Einträge von a auf -1, von b auf 3, von c auf -1 und von y auf 0.2"
   ]
  },
  {
   "cell_type": "code",
   "execution_count": 3,
   "metadata": {},
   "outputs": [
    {
     "name": "stdout",
     "output_type": "stream",
     "text": [
      "Lösungsvektor x = [0.12359551 0.17078652 0.18876404 0.19550562 0.19775281 0.19775281\n",
      " 0.19550562 0.18876404 0.17078652 0.12359551]\n"
     ]
    }
   ],
   "source": [
    "'''\n",
    "Inputs:\n",
    "            a      - (N-1) x 1 numpy array, Einträge obere Nebendiagonale\n",
    "            b      - N x 1 numpy array, Einträge Hauptdiagonale\n",
    "            c      - (N-1) x 1 numpy array, Einträge untere Nebendiagonale\n",
    "            y      - N x 1 numpy array, Ergebnisvektor y\n",
    "'''\n",
    "\n",
    "N = 10\n",
    "a = np.ones(N-1)*-1\n",
    "b = np.ones(N)*3\n",
    "c = np.ones(N-1)*-1\n",
    "y = np.ones(N)*0.2\n",
    "\n",
    "print('Lösungsvektor x =',trielim(a,b,c,y))"
   ]
  },
  {
   "cell_type": "markdown",
   "metadata": {},
   "source": [
    "## 2.5\n",
    "\n",
    "Wir prüfen nun nach, ob der berechnete Lösungsvektor bei Multiplikation mit der Matrix, den geforderten y-Vektor liefert."
   ]
  },
  {
   "cell_type": "code",
   "execution_count": 4,
   "metadata": {},
   "outputs": [],
   "source": [
    "def triprod(a,b,c,x):\n",
    "    '''\n",
    "Funktion, die für eine gegebene 3-Ecksmatrix und einen Verktor x den Vektor y ausrechent (Ax=y)\n",
    "        Inputs:\n",
    "            a      - (N-1) x 1 numpy array, Einträge obere Nebendiagonale\n",
    "            b      - N x 1 numpy array, Einträge obere Nebendiagonale\n",
    "            c      - (N-1) x 1 numpy array, Einträge obere Nebendiagonale\n",
    "            x      - N x 1 numpy array, Vektor x\n",
    "        Output:\n",
    "            y      - N x 1 numpy array, Ergebnisvektor y\n",
    "'''\n",
    "    y = np.zeros(len(x))\n",
    "    y[0]=b[0]*x[0]+c[0]*x[1]\n",
    "    t=1\n",
    "    while t<len(x)-1:\n",
    "        y[t]=a[t-1]*x[t-1]+b[t]*x[t]+x[t+1]*c[t]\n",
    "        t=t+1\n",
    "    y[-1]=a[-1]*x[-2]+b[-1]*x[-1]\n",
    "    return y\n"
   ]
  },
  {
   "cell_type": "code",
   "execution_count": 5,
   "metadata": {},
   "outputs": [
    {
     "data": {
      "text/plain": [
       "array([0.2, 0.2, 0.2, 0.2, 0.2, 0.2, 0.2, 0.2, 0.2, 0.2])"
      ]
     },
     "execution_count": 5,
     "metadata": {},
     "output_type": "execute_result"
    }
   ],
   "source": [
    "# Einsetzen des Lösungsvektors aus obiger Funktion in die Matrixmultiplikation mit A\n",
    "\n",
    "triprod(a,b,c,trielim(a,b,c,y))"
   ]
  },
  {
   "cell_type": "markdown",
   "metadata": {},
   "source": [
    "Man stellt sofort fest, dass der berechnete Lösungsvektor tatsächlich den gegeben y-Vektor bei Multiplikation mit der Matrix, die aus den drei Diagonalen a,b und c besteht zurückliefert. Das Ergebnis ist sehr zufriedenstellend."
   ]
  }
 ],
 "metadata": {
  "kernelspec": {
   "display_name": "Python 3",
   "language": "python",
   "name": "python3"
  },
  "language_info": {
   "codemirror_mode": {
    "name": "ipython",
    "version": 3
   },
   "file_extension": ".py",
   "mimetype": "text/x-python",
   "name": "python",
   "nbconvert_exporter": "python",
   "pygments_lexer": "ipython3",
   "version": "3.7.3"
  }
 },
 "nbformat": 4,
 "nbformat_minor": 2
}
