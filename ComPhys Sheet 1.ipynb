{
 "cells": [
  {
   "cell_type": "code",
   "execution_count": 1,
   "metadata": {
    "scrolled": true
   },
   "outputs": [
    {
     "data": {
      "text/plain": [
       "(array([0.02398217, 1.23702467, 0.        ]),\n",
       " array([ 0.89900693, -0.02342911,  0.        ]),\n",
       " array([ 0.        ,  0.        , -1.11259689]),\n",
       " -0.48127120944065893,\n",
       " 1.345226956265916,\n",
       " 0.03745758111868214)"
      ]
     },
     "execution_count": 1,
     "metadata": {},
     "output_type": "execute_result"
    }
   ],
   "source": [
    "import numpy as np\n",
    "import matplotlib.pyplot as plt\n",
    "G=1\n",
    "M=1\n",
    "\n",
    "def iterate(n,s,w,h,j,e,E):\n",
    "    E0 = (np.dot(w,w))**2/2-(1/(np.linalg.norm(s)))\n",
    "    for i in range(n):\n",
    "        \n",
    "        t=s\n",
    "        r=w\n",
    "        j=np.cross(t,r)\n",
    "        e = np.cross(r,np.cross(t,r))-r\n",
    "        E = (np.dot(r,r))**2/2-1/(np.linalg.norm(t))\n",
    "        eps = np.abs(E-E0)/np.abs(E0)\n",
    "        s=t+r*h \n",
    "        w=r-t/(np.linalg.norm(t)**3)*h\n",
    "        \n",
    "\n",
    "\n",
    "        b=np.linalg.norm(e)/M  #excentricity\n",
    "#         if(i%10==0):\n",
    "            \n",
    "#             plt.scatter(s[0],s[1])\n",
    "#             print(s,w,j,E,b) #prints the properties at each integration step\n",
    "\n",
    "        i=i+1\n",
    "        \n",
    "  \n",
    "    return s,w,j,E,b,eps\n",
    "\n",
    "r = np.array([0,1,0])\n",
    "v = np.array([1,0,0])\n",
    "\n",
    "R0=1\n",
    "V0=(G*M/R0)\n",
    "s=r/R0\n",
    "w = v/V0\n",
    "E = (np.dot(w,w))/2-1/(np.linalg.norm(s))\n",
    "j=np.cross(s,w)\n",
    "e = np.cross(w,np.cross(s,w))-w\n",
    "E = (np.dot(w,w))/2-1/(np.linalg.norm(s))\n",
    "\n",
    "\n",
    "\n",
    "h11=0.01 \n",
    "e11 = iterate(1500,s,w,h11,j,e,E)[-1]\n",
    "iterate(1500,s,w,h11,j,e,E) "
   ]
  },
  {
   "cell_type": "code",
   "execution_count": 2,
   "metadata": {},
   "outputs": [
    {
     "data": {
      "text/plain": [
       "(array([0.89438133, 2.28731705, 0.        ]),\n",
       " array([ 0.59568191, -0.36872593,  0.        ]),\n",
       " array([ 0.        ,  0.        , -1.69116988]),\n",
       " -0.2869630732513035,\n",
       " 1.3700646474641534,\n",
       " 0.426073853497393)"
      ]
     },
     "execution_count": 2,
     "metadata": {},
     "output_type": "execute_result"
    }
   ],
   "source": [
    "h12=0.10\n",
    "e12=iterate(450,s,w,h12,j,e,E)[-1]\n",
    "iterate(450,s,w,h12,j,e,E)"
   ]
  },
  {
   "cell_type": "code",
   "execution_count": 3,
   "metadata": {},
   "outputs": [
    {
     "data": {
      "text/plain": [
       "(array([0.93751228, 0.41639178, 0.        ]),\n",
       " array([ 0.40179252, -0.90263661,  0.        ]),\n",
       " array([ 0.        ,  0.        , -1.01353507]),\n",
       " -0.49835476745115803,\n",
       " 1.4067643377612935,\n",
       " 0.0032904650976839367)"
      ]
     },
     "execution_count": 3,
     "metadata": {},
     "output_type": "execute_result"
    }
   ],
   "source": [
    "h13=0.001\n",
    "e13 = iterate(14000,s,w,h13,j,e,E)[-1]\n",
    "iterate(14000,s,w,h13,j,e,E)"
   ]
  },
  {
   "cell_type": "code",
   "execution_count": 4,
   "metadata": {},
   "outputs": [
    {
     "data": {
      "text/plain": [
       "(array([1.32624382, 0.53870291, 0.        ]),\n",
       " array([ 0.75196767, -0.70171766,  0.        ]),\n",
       " array([ 0.        ,  0.        , -1.33568993]),\n",
       " -0.1367043919978551,\n",
       " 1.7195608414215553,\n",
       " 1.61940397082214)"
      ]
     },
     "execution_count": 4,
     "metadata": {},
     "output_type": "execute_result"
    }
   ],
   "source": [
    "w1 = w/0.8\n",
    "E = (np.dot(w1,w1))/2-1/(np.linalg.norm(s))\n",
    "j=np.cross(s,w1)\n",
    "e = np.cross(w1,np.cross(s,w1))-w1\n",
    "E = (np.dot(w1,w1))/2-1/(np.linalg.norm(s))\n",
    "\n",
    "\n",
    "h21=0.01\n",
    "e21 = iterate(5250,s,w1,h21,j,e,E)[-1]\n",
    "iterate(5250,s,w1,h21,j,e,E)"
   ]
  },
  {
   "cell_type": "code",
   "execution_count": 5,
   "metadata": {},
   "outputs": [
    {
     "data": {
      "text/plain": [
       "(array([0.18084317, 1.35850108, 0.        ]),\n",
       " array([ 1.14067158, -0.11372675,  0.        ]),\n",
       " array([ 0.        ,  0.        , -1.56864001]),\n",
       " 0.13285888398150458,\n",
       " 2.1326240744052667,\n",
       " 0.39801992390681107)"
      ]
     },
     "execution_count": 5,
     "metadata": {},
     "output_type": "execute_result"
    }
   ],
   "source": [
    "h22=0.05\n",
    "e22 = iterate(2150,s,w1,h22,j,e,E)[-1]\n",
    "iterate(2150,s,w1,h22,j,e,E)"
   ]
  },
  {
   "cell_type": "code",
   "execution_count": 6,
   "metadata": {},
   "outputs": [
    {
     "data": {
      "text/plain": [
       "(array([1.19346861, 0.52418298, 0.        ]),\n",
       " array([ 0.77158485, -0.72354649,  0.        ]),\n",
       " array([ 0.        ,  0.        , -1.26797938]),\n",
       " -0.14062921392522088,\n",
       " 1.708884767194007,\n",
       " 1.637187234776222)"
      ]
     },
     "execution_count": 6,
     "metadata": {},
     "output_type": "execute_result"
    }
   ],
   "source": [
    "h23=0.002\n",
    "e23 = iterate(23000,s,w1,h23,j,e,E)[-1]\n",
    "iterate(23000,s,w1,h23,j,e,E)"
   ]
  },
  {
   "cell_type": "code",
   "execution_count": 7,
   "metadata": {},
   "outputs": [
    {
     "data": {
      "text/plain": [
       "(array([-0.01031002,  1.59463784,  0.        ]),\n",
       " array([ 0.61768272, -0.00852442,  0.        ]),\n",
       " array([ 0.        ,  0.        , -0.98486808]),\n",
       " -0.5542778640493368,\n",
       " 0.8669182582228377,\n",
       " 0.269604360134275)"
      ]
     },
     "execution_count": 7,
     "metadata": {},
     "output_type": "execute_result"
    }
   ],
   "source": [
    "w2 = w/1.2\n",
    "E = (np.dot(w2,w2))/2-1/(np.linalg.norm(s))\n",
    "j=np.cross(s,w2)\n",
    "e = np.cross(w2,np.cross(s,w2))-w2\n",
    "E = (np.dot(w2,w2))/2-1/(np.linalg.norm(s))\n",
    "\n",
    "\n",
    "h31=0.01\n",
    "e31 = iterate(1190,s,w2,h31,j,e,E)[-1]\n",
    "iterate(1190,s,w2,h31,j,e,E)"
   ]
  },
  {
   "cell_type": "code",
   "execution_count": 8,
   "metadata": {},
   "outputs": [
    {
     "data": {
      "text/plain": [
       "0.06039993866263273"
      ]
     },
     "execution_count": 8,
     "metadata": {},
     "output_type": "execute_result"
    }
   ],
   "source": [
    "h32=0.002\n",
    "e32 = iterate(4530,s,w2,h32,j,e,E)[-1]\n",
    "iterate(4530,s,w2,h32,j,e,E)[-1]"
   ]
  },
  {
   "cell_type": "code",
   "execution_count": 9,
   "metadata": {},
   "outputs": [
    {
     "data": {
      "text/plain": [
       "(array([2.14396247, 0.63529178, 0.        ]),\n",
       " array([-0.2232958 , -0.83920667,  0.        ]),\n",
       " array([ 0.        , -0.        , -1.65597363]),\n",
       " -0.16749156463380177,\n",
       " 1.6598121517462263,\n",
       " 0.7792892041022805)"
      ]
     },
     "execution_count": 9,
     "metadata": {},
     "output_type": "execute_result"
    }
   ],
   "source": [
    "h33=0.10\n",
    "e33 = iterate(1420,s,w2,h33,j,e,E)[-1]\n",
    "iterate(1420,s,w2,h33,j,e,E)"
   ]
  },
  {
   "cell_type": "code",
   "execution_count": 11,
   "metadata": {},
   "outputs": [
    {
     "data": {
      "text/plain": [
       "[<matplotlib.lines.Line2D at 0x7fafbc7d5f98>]"
      ]
     },
     "execution_count": 11,
     "metadata": {},
     "output_type": "execute_result"
    },
    {
     "data": {
      "image/png": "[encoded data removed]",
      "text/plain": [
       "<Figure size 432x288 with 1 Axes>"
      ]
     },
     "metadata": {
      "needs_background": "light"
     },
     "output_type": "display_data"
    }
   ],
   "source": [
    "\n",
    "\n",
    "a1 = np.array([h13,h11,h12])#w=w\n",
    "a2 = np.array([h23,h21,h22])#w=w/0.8\n",
    "a3 = np.array([h32,h31,h33])#w=w/1,2\n",
    "\n",
    "b1 = np.array([e13,e11,e12])\n",
    "b2 = np.array([e23,e21,e22])\n",
    "b3 = np.array([e32,e31,e33])\n",
    "plt.loglog(a1,b1, 'r')\n",
    "plt.loglog(a2,b2, 'b')\n",
    "plt.loglog(a3,b3, 'g')"
   ]
  }
 ],
 "metadata": {
  "kernelspec": {
   "display_name": "Python 3",
   "language": "python",
   "name": "python3"
  },
  "language_info": {
   "codemirror_mode": {
    "name": "ipython",
    "version": 3
   },
   "file_extension": ".py",
   "mimetype": "text/x-python",
   "name": "python",
   "nbconvert_exporter": "python",
   "pygments_lexer": "ipython3",
   "version": "3.7.3"
  }
 },
 "nbformat": 4,
 "nbformat_minor": 2
}
